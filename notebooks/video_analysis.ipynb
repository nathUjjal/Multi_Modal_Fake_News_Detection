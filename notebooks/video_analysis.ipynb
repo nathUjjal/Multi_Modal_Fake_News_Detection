{
 "cells": [
  {
   "cell_type": "code",
   "execution_count": null,
   "id": "397afaa9",
   "metadata": {
    "vscode": {
     "languageId": "plaintext"
    }
   },
   "outputs": [],
   "source": [
    "import cv2\n",
    "import whisper\n",
    "\n",
    "# Extract frame\n",
    "cap = cv2.VideoCapture(\"../data/sample_video.mp4\")\n",
    "ret, frame = cap.read()\n",
    "cv2.imwrite(\"../data/frame1.jpg\", frame)\n",
    "cap.release()\n",
    "\n",
    "# Speech-to-text\n",
    "model = whisper.load_model(\"base\")\n",
    "result = model.transcribe(\"../data/sample_video.mp4\")\n",
    "print(\"Transcript:\", result[\"text\"])\n"
   ]
  }
 ],
 "metadata": {
  "language_info": {
   "name": "python"
  }
 },
 "nbformat": 4,
 "nbformat_minor": 5
}
