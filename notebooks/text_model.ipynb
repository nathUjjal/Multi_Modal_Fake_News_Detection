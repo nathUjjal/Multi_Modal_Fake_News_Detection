{
 "cells": [
  {
   "cell_type": "code",
   "execution_count": null,
   "id": "0ed94e91",
   "metadata": {
    "vscode": {
     "languageId": "plaintext"
    }
   },
   "outputs": [],
   "source": [
    "from transformers import pipeline\n",
    "\n",
    "# Load pretrained DistilBERT (fine-tuned sentiment model as placeholder)\n",
    "pipe = pipeline(\"text-classification\", model=\"distilbert-base-uncased-finetuned-sst-2-english\")\n",
    "\n",
    "# Test\n",
    "print(pipe(\"NASA confirms aliens landed in Delhi 2025\"))\n",
    "\n",
    "# Later replace with fine-tuned model on fake news dataset"
   ]
  }
 ],
 "metadata": {
  "language_info": {
   "name": "python"
  }
 },
 "nbformat": 4,
 "nbformat_minor": 5
}
